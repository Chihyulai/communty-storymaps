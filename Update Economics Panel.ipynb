{
 "cells": [
  {
   "cell_type": "code",
   "execution_count": null,
   "metadata": {},
   "outputs": [],
   "source": [
    "import arcgis\n",
    "from arcgis.gis import GIS\n",
    "from arcgis.apps import storymap\n",
    "from arcgis.mapping import WebMap\n",
    "from arcgis.geometry import Geometry, SpatialReference, Point, Polygon\n",
    "from getpass import getpass\n",
    "from arcgis.features import FeatureLayer, Feature, FeatureLayerCollection\n",
    "import pandas as pd\n",
    "from datetime import datetime"
   ]
  },
  {
   "cell_type": "code",
   "execution_count": null,
   "metadata": {},
   "outputs": [],
   "source": [
    "# Create a connection to your portal for publishing (enter your ArcGIS Online \n",
    "#  password in the textbox that appears, then hit 'Enter' on your keyboard)\n",
    "username = \" \"\n",
    "gis = GIS(\"https://www.arcgis.com\", username, getpass())"
   ]
  },
  {
   "cell_type": "code",
   "execution_count": null,
   "metadata": {},
   "outputs": [],
   "source": [
    "find_storymaps = gis.content.search(\"title:* Community Storymap\", item_type=\"Web Mapping Application\", max_items=500, outside_org=False)\n"
   ]
  },
  {
   "cell_type": "code",
   "execution_count": null,
   "metadata": {},
   "outputs": [],
   "source": [
    "##REMOVE EMPLOYMENT RATE DATA PER CONVERSATION WITH DOL R&A STAFF-- SCRIPT INITIALLY RUN, BUT TIMED OUT, FIND REMAINING\n",
    "##STORYMAPS THAT DIDN'T RECEIVE UPDATE (EZH -- 7/3/2019)\n",
    "upd_lst = []\n",
    "for f in find_storymaps:\n",
    "    if f.title != 'Alaska DCRA Community Storymaps' and not f.title.startswith('Communities ') and not f.title.startswith('Community '):\n",
    "        csmap = storymap.JournalStoryMap(gis.content.get(str(f.id)))\n",
    "        sections = csmap.properties[\"values\"][\"story\"][\"sections\"]\n",
    "        panel_econ = sections[7]\n",
    "        try:\n",
    "            if str('Employment') in str(panel_econ[\"content\"]):\n",
    "                upd_lst.append(f)\n",
    "        except Exception as e:\n",
    "            print(f.title, str(e))\n",
    "            continue\n",
    "            \n",
    "print(upd_lst)\n",
    "        "
   ]
  },
  {
   "cell_type": "code",
   "execution_count": null,
   "metadata": {
    "scrolled": false
   },
   "outputs": [],
   "source": [
    "for f in upd_lst:\n",
    "    if f.title != 'Alaska DCRA Community Storymaps' and not f.title.startswith('Communities ') and not f.title.startswith('Community '):\n",
    "        csmap = storymap.JournalStoryMap(gis.content.get(str(f.id)))\n",
    "        sections = csmap.properties[\"values\"][\"story\"][\"sections\"]\n",
    "        panel_econ = sections[7]\n",
    "        community = f.title.replace(\" Community Storymap\", \"\")\n",
    "        if community.startswith(\"City & Borough of \"):\n",
    "            community = community.replace(\"City & Borough of \", \"\")\n",
    "        if community.startswith(\"Municipality of \"):\n",
    "            community = community.replace(\"Municipality of \",\"\")\n",
    "        query = \"CommunityName = '\" + str(community.replace(\"'\",\"''\")) + \"'\"\n",
    "      \n",
    "    ### ECONOMY PANEL ###\n",
    "        #Taxes data\n",
    "        print(f.title, f.id)\n",
    "        tax_base = gis.content.get(\"70a364eae3514531a280e4696b54c6e9\").layers[0]\n",
    "        tax_data = tax_base.query(where=\"CommunityName = '\" + str(community.replace(\"'\",\"''\")) + \"' AND RevenueYear = 2016\", out_fields = \"*\").df\n",
    "        if str(tax_data) != 'Empty DataFrame\\nColumns: []\\nIndex: []':\n",
    "            sales_tax = tax_data.SalesTaxPercentage[0]\n",
    "            prop_tax = tax_data.PropertyTaxMills[0]\n",
    "            other_tax = tax_data.OtherTaxes[0]\n",
    "            prop_tax_rev = tax_data.PropertyTaxRevenue[0]\n",
    "            sales_tax_rev = tax_data.SalesTaxRevenue[0]\n",
    "            total_tax_rev = tax_data.TotalTaxRevenue[0]\n",
    "            tax_table = ['<table border=\"1\"><tr><th width=\"40%\"></th><th width=\"60%\"></th></tr>',\n",
    "                         '<tr><td>Property Tax Mills:</td><td>' + str(prop_tax) + '</td></tr>',\n",
    "                        '<tr><td>Sales Tax Rate: </td><td>' + str(sales_tax) + '</td></tr>',\n",
    "                        '<tr><td>Other Taxes: </td><td>' + str(other_tax) + '</td></tr>',\n",
    "                        '<tr><td>Total Tax Revenue: </td><td> $' + str(\"{:,}\".format(total_tax_rev)) + '</td></tr>',\n",
    "                        '<tr><td>Sales Tax Revenue: </td><td> $' + str(\"{:,}\".format(sales_tax_rev)) + '</td></tr>']\n",
    "            embed_tax_tbl = ' '.join(tax_table)\n",
    "        else:\n",
    "            embed_tax_tbl = '<i> There is no tax data currently available for this community, or this community does not assess taxes.</i>'\n",
    "\n",
    "        #Income and poverty data\n",
    "        inc_pov_base = gis.content.get(\"ad27d89db59744b89766e8131af0c13d\")\n",
    "        inc_pov_data = inc_pov_base.layers[0].query(where=str(query) + \" AND IsMostRecent = 1\", out_fields = \"*\").df\n",
    "        if str(inc_pov_data) != 'Empty DataFrame\\nColumns: []\\nIndex: []':\n",
    "            hs_inc = inc_pov_data.MedianHouseholdIncome[0]\n",
    "            fm_inc = inc_pov_data.MedianFamilyIncome[0]\n",
    "            poverty = inc_pov_data.PersonsBelowPoveryLevel[0]\n",
    "            poverty125 = inc_pov_data.PersonsBelow125PercentOfPovLev[0]\n",
    "            if str(hs_inc) != 'None' and str(fm_inc) != 'None':\n",
    "                inc_pov_tbl = ['<table border=\"1\"><tr><th width=\"70%\"></th><th width=\"30%\"></th></tr>',\n",
    "                             '<tr><td>Median Household Income:</td><td> $' + str(\"{:,}\".format(hs_inc)) + '</td></tr>',\n",
    "                            '<tr><td>Median Family Income: </td><td> $' + str(\"{:,}\".format(fm_inc)) + '</td></tr>',\n",
    "                            '<tr><td>Persons Below Poverty: </td><td>' + str(poverty) + '</td></tr>',\n",
    "                            '<tr><td>Persons Below 125% of the Poverty Level: </td><td> ' + str(poverty125) + '</td></tr></table>']\n",
    "            else:\n",
    "                inc_pov_tbl = ['<table border=\"1\"><tr><th width=\"70%\"></th><th width=\"30%\"></th></tr>',\n",
    "                             '<tr><td>Median Household Income:</td><td> $' + str(hs_inc) + '</td></tr>',\n",
    "                            '<tr><td>Median Family Income: </td><td> $' + str(fm_inc) + '</td></tr>',\n",
    "                            '<tr><td>Persons Below Poverty: </td><td>' + str(poverty) + '</td></tr>',\n",
    "                            '<tr><td>Persons Below 125% of the Poverty Level: </td><td> ' + str(poverty125) + '</td></tr></table>']\n",
    "            embed_IncPov_tbl = ' '.join(inc_pov_tbl)\n",
    "        else:\n",
    "            embed_IncPov_tbl = '<i> There is no income and poverty data currently available for this community. </i>'\n",
    "\n",
    "\n",
    "        panel_econ[\"content\"] = '<style type=\"text/css\">.dcra-blue {\\n     display: inline-block;\\n     background-color: #005e95;\\n     border-color: #005e95 !important;\\n     color: #fff !important;\\n     padding: 0px 4px;\\n     border-radius: 0px;\\n}\\n</style>\\n<p><a class=\"dcra-blue\" data-storymaps=\"MJ-ACTION-1524783785796\" data-storymaps-type=\"navigate\">Back to Table of Contents</a></p>\\n\\n<p>&nbsp;</p>\\n\\n<div><p><b><u>Taxes: </u></b> ' + str(embed_tax_tbl) + '</table></p></div><p>&nbsp;</p><p><b><u>Income and Poverty:</u></b>' + str(embed_IncPov_tbl) + '</p>\\n\\n<p>&nbsp;</p><p>More information can be found in the <a href=\"http://DCCED.maps.arcgis.com/apps/MapJournal/index.html?appid=bb631449256346db81bc026339f0e60c\" target=\"_blank\">Alaska Taxable.</a></p>\\n'\n",
    "\n",
    "        csmap.save()\n",
    "        print(\"Economic data posted to economy panel.\")"
   ]
  },
  {
   "cell_type": "code",
   "execution_count": null,
   "metadata": {},
   "outputs": [],
   "source": []
  }
 ],
 "metadata": {
  "kernelspec": {
   "display_name": "Python 3",
   "language": "python",
   "name": "python3"
  },
  "language_info": {
   "codemirror_mode": {
    "name": "ipython",
    "version": 3
   },
   "file_extension": ".py",
   "mimetype": "text/x-python",
   "name": "python",
   "nbconvert_exporter": "python",
   "pygments_lexer": "ipython3",
   "version": "3.6.5"
  }
 },
 "nbformat": 4,
 "nbformat_minor": 2
}
