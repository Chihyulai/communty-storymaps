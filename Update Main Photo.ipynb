{
 "cells": [
  {
   "cell_type": "code",
   "execution_count": null,
   "metadata": {},
   "outputs": [],
   "source": [
    "import arcgis\n",
    "from arcgis.gis import GIS\n",
    "from arcgis.apps import storymap\n",
    "from arcgis.mapping import WebMap\n",
    "from getpass import getpass\n",
    "from arcgis.features import FeatureLayer, Feature, FeatureLayerCollection\n",
    "import pandas as pd\n",
    "import os\n",
    "import datetime as dt\n",
    "from datetime import datetime"
   ]
  },
  {
   "cell_type": "code",
   "execution_count": null,
   "metadata": {},
   "outputs": [],
   "source": [
    "# Create a connection to your portal for publishing (enter your ArcGIS Online \n",
    "#  password in the textbox that appears, then hit 'Enter' on your keyboard)\n",
    "username = \" \"\n",
    "gis = GIS(\"https://www.arcgis.com\", username, getpass())"
   ]
  },
  {
   "cell_type": "code",
   "execution_count": null,
   "metadata": {},
   "outputs": [],
   "source": [
    "#Define the function to access fields within a layer --> provides a pandas dataframe of the data table\n",
    "def access_lyr(content,out_fld):\n",
    "    base = content.layers\n",
    "    lyr = base[0]\n",
    "    topic_data = lyr.query(where=\"CommunityName = '\" + str(community.replace(\"'\",\"''\")) + \"'\" ,out_fields=out_fld)\n",
    "    return topic_data.df\n",
    "\n",
    "today = [dt.date.today()]\n",
    "log_path = r\"T:\\CDO_To_Esri\\Storymaps\\_Archive\\Logfiles\\Communities\\Update Main Photo\"\n",
    "log_file = os.path.join(log_path, \"Update Main Photo_\" + str(today[0]) + str(\".txt\"))\n",
    "out = open(log_file,'w')\n",
    "\n",
    "#Find storymaps to edit\n",
    "find_storymaps = gis.content.search(\"title:* Community Storymap*\", item_type=\"Web Mapping Application\", max_items=500, outside_org=False)"
   ]
  },
  {
   "cell_type": "code",
   "execution_count": null,
   "metadata": {},
   "outputs": [],
   "source": [
    "for f in find_storymaps:\n",
    "    try:\n",
    "        if f.title != 'Alaska DCRA Community Storymaps' and not f.title.startswith('Communit') and 'Community' in str(f.title):\n",
    "            csmap = storymap.JournalStoryMap(gis.content.get(str(f.id)))\n",
    "            sections = csmap.properties[\"values\"][\"story\"][\"sections\"]\n",
    "            community = f.title.replace(\" Community Storymap\", \"\").replace(\" (Unincorporated Community)\", \"\").replace(\"'\",\"''\")\n",
    "            print(f.title, f.id)\n",
    "            if community.startswith(\"City & Borough of \"):\n",
    "                community = community.replace(\"City & Borough of \", \"\")\n",
    "            if community.startswith(\"Municipality of \"):\n",
    "                community = community.replace(\"Municipality of \",\"\")\n",
    "            print(community)\n",
    "            #Access the URL for the main photo from the Photo Link feature class\n",
    "            try:\n",
    "                photo_base = gis.content.get(\"6d9d437bbe2d48bfa87b4d9fca41f80d\")\n",
    "                find_photo = access_lyr(photo_base,'PhotoLink')\n",
    "                main_pic = find_photo.PhotoLink[0]\n",
    "            except:\n",
    "                print('______Issues with connecting to data.______')\n",
    "\n",
    "            #Define the main panel to change the main image content\n",
    "            panel_toc = sections[0]\n",
    "            #Change the photo by searching for a link from the photo links feature class. If not there, use the default Denali\n",
    "            #photo\n",
    "            print(\"Updating main picture...\")\n",
    "            panel_toc[\"title\"] = '<span style=\"font-size:40px\">' + str(community) + ', Alaska</span>'\n",
    "            if str(main_pic) == 'None':\n",
    "                panel_toc[\"media\"][\"image\"][\"url\"] = \"https://maps.commerce.alaska.gov/portal/sharing/rest/content/items/0de9a1aac2804454978e697354ec321f/data\"\n",
    "            else:\n",
    "                panel_toc[\"media\"][\"image\"][\"url\"] = main_pic\n",
    "            csmap.save()\n",
    "            print(\"Photo updated.\")\n",
    "    except:\n",
    "        print(\"-------ISSUE WITH\" + str(f.title) + \"--------\")\n",
    "        out.write('Unable to update photo for ' + str(f.title))\n",
    "        out.write('\\n\\n')\n",
    "        continue"
   ]
  },
  {
   "cell_type": "code",
   "execution_count": null,
   "metadata": {},
   "outputs": [],
   "source": []
  }
 ],
 "metadata": {
  "kernelspec": {
   "display_name": "Python 3",
   "language": "python",
   "name": "python3"
  },
  "language_info": {
   "codemirror_mode": {
    "name": "ipython",
    "version": 3
   },
   "file_extension": ".py",
   "mimetype": "text/x-python",
   "name": "python",
   "nbconvert_exporter": "python",
   "pygments_lexer": "ipython3",
   "version": "3.6.5"
  }
 },
 "nbformat": 4,
 "nbformat_minor": 2
}
