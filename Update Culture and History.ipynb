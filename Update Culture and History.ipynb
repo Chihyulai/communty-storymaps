{
 "cells": [
  {
   "cell_type": "code",
   "execution_count": null,
   "metadata": {},
   "outputs": [],
   "source": [
    "import arcgis\n",
    "from arcgis.gis import GIS\n",
    "from arcgis.apps import storymap\n",
    "from arcgis.mapping import WebMap\n",
    "from getpass import getpass\n",
    "import pandas as pd\n",
    "import datetime as dt\n",
    "from datetime import datetime"
   ]
  },
  {
   "cell_type": "code",
   "execution_count": null,
   "metadata": {},
   "outputs": [],
   "source": [
    "# Create a connection to your portal for publishing (enter your ArcGIS Online \n",
    "#  password in the textbox that appears, then hit 'Enter' on your keyboard)\n",
    "username = \" \"\n",
    "gis = GIS(\"https://www.arcgis.com\", username, getpass())"
   ]
  },
  {
   "cell_type": "code",
   "execution_count": null,
   "metadata": {},
   "outputs": [],
   "source": [
    "find_storymaps = gis.content.search(\"title: Community Storymap\", item_type=\"Web Mapping Application\", max_items=500, outside_org=False)"
   ]
  },
  {
   "cell_type": "code",
   "execution_count": null,
   "metadata": {
    "scrolled": false
   },
   "outputs": [],
   "source": [
    "import os\n",
    "today = [dt.date.today()]\n",
    "log_path = r\"T:\\CDO_To_Esri\\Storymaps\\_Archive\\Logfiles\\Communities\\UpdateCultureHistory\"\n",
    "log_file = os.path.join(log_path, \"Update Culture History_\" + str(today[0]) + str(\".txt\"))\n",
    "out = open(log_file,'w')\n",
    "\n",
    "\n",
    "for f in find_storymaps:\n",
    "    print(f.title, f.id)\n",
    "    try:\n",
    "        if f.title != 'Alaska DCRA Community Storymaps' and not f.title.startswith('Communit') and 'Community' in str(f.title):\n",
    "            csmap = storymap.JournalStoryMap(gis.content.get(str(f.id)))\n",
    "            sections = csmap.properties[\"values\"][\"story\"][\"sections\"]\n",
    "            panel_ch = sections[1]\n",
    "            community = f.title.replace(\" Community Storymap\", \"\").replace(\" (Unincorporated Community)\",\"\")\n",
    "            if community.startswith(\"City & Borough of \"):\n",
    "                community = community.replace(\"City & Borough of \", \"\")\n",
    "            if community.startswith(\"Municipality of \"):\n",
    "                community = community.replace(\"Municipality of \",\"\")\n",
    "            query = \"CommunityName = '\" + str(community.replace(\"'\",\"''\")) + \"'\"\n",
    "            print(query)\n",
    "\n",
    "### CULTURE HISTORY PANEL ###\n",
    "        #Access the culture and history from the culture/history feature class (IF THE PANEL ORDER CHANGES, MAKE SURE INDEX STILL APPLIES)\n",
    "        ch_ft = FeatureLayer(\"https://maps.commerce.alaska.gov/arcgis/rest/services/Community_Related/General_CultureHistory/MapServer/0\")\n",
    "        culture_lookup = ch_ft.query(where=query).df\n",
    "        if str(culture_lookup) != 'Empty DataFrame\\nColumns: []\\nIndex: []':\n",
    "            culture = culture_lookup.CommunityCulture[0]\n",
    "            if str(culture) == 'None':\n",
    "                culture = \"Information on this community's culture is unavailable.\"\n",
    "            history = culture_lookup.CommunityHistory[0]\n",
    "            if str(history) == 'None':\n",
    "                history = \"Information on this community's history is unavailable.\"\n",
    "            #Populate the panel with the new culture history info\n",
    "            panel_ch[\"media\"][\"webmap\"][\"altText\"] = 'Map showing the location of ' + str(community) + ', Alaska in the context of the state and borough/REAA boundaries.'\n",
    "            if str(culture) == 'None' and str(history) == 'None':\n",
    "                panel_ch[\"content\"] = '<style type=\"text/css\">.dcra-blue {\\n     display: inline-block;\\n     background-color: #005e95;\\n     border-color: #005e95 !important;\\n     color: #fff !important;\\n     padding: 0px 4px;\\n     border-radius: 0px;\\n}\\n</style>\\n<p><a class=\"dcra-blue\" data-storymaps=\"MJ-ACTION-1524783785796\" data-storymaps-type=\"navigate\">Back to Table of Contents</a></p>\\n\\n<p>&nbsp;</p><p> No data is currently available on culture or history for this community.</p>'\n",
    "            else:\n",
    "                panel_ch[\"content\"] = '<style type=\"text/css\">.dcra-blue {\\n     display: inline-block;\\n     background-color: #005e95;\\n     border-color: #005e95 !important;\\n     color: #fff !important;\\n     padding: 0px 4px;\\n     border-radius: 0px;\\n}\\n</style>\\n<p><a class=\"dcra-blue\" data-storymaps=\"MJ-ACTION-1524783785796\" data-storymaps-type=\"navigate\">Back to Table of Contents</a></p>\\n\\n<p>&nbsp;<p>'+ history + '&nbsp;</p>\\n\\n<p>\\n\\n<p>&nbsp;<p>'+ culture + '&nbsp;</p>\\n'\n",
    "        else:\n",
    "            panel_ch[\"content\"] = '<style type=\"text/css\">.dcra-blue {\\n     display: inline-block;\\n     background-color: #005e95;\\n     border-color: #005e95 !important;\\n     color: #fff !important;\\n     padding: 0px 4px;\\n     border-radius: 0px;\\n}\\n</style>\\n<p><a class=\"dcra-blue\" data-storymaps=\"MJ-ACTION-1524783785796\" data-storymaps-type=\"navigate\">Back to Table of Contents</a></p>\\n\\n<p>&nbsp;</p><p> No data is currently available on culture or history for this community.</p>'\n",
    "        csmap.save()\n",
    "        \n",
    "        print(\"Culture history information updated!!\")\n",
    "        \n",
    "    except Exception as e:\n",
    "        print(\"----ERROR WITH \" + str(community) + \" STORYMAP. EXCEPTION: \" + str(e) + \"----\")\n",
    "        out.write(\"----ERROR WITH \" + str(community) + \" STORYMAP. EXCEPTION: \" + str(e) + \"----\")\n",
    "        out.write(\"\\n\\n\")\n",
    "        continue\n",
    "        \n",
    "out.close()       \n",
    "print(\"Storymap updates complete!\")"
   ]
  },
  {
   "cell_type": "code",
   "execution_count": null,
   "metadata": {},
   "outputs": [],
   "source": []
  }
 ],
 "metadata": {
  "kernelspec": {
   "display_name": "Python 3",
   "language": "python",
   "name": "python3"
  },
  "language_info": {
   "codemirror_mode": {
    "name": "ipython",
    "version": 3
   },
   "file_extension": ".py",
   "mimetype": "text/x-python",
   "name": "python",
   "nbconvert_exporter": "python",
   "pygments_lexer": "ipython3",
   "version": "3.6.5"
  }
 },
 "nbformat": 4,
 "nbformat_minor": 2
}
