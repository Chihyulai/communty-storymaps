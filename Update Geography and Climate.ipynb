{
 "cells": [
  {
   "cell_type": "code",
   "execution_count": null,
   "metadata": {},
   "outputs": [],
   "source": [
    "import arcgis\n",
    "from arcgis.gis import GIS\n",
    "from arcgis.apps import storymap\n",
    "from arcgis.mapping import WebMap\n",
    "from getpass import getpass\n",
    "import pandas as pd\n",
    "import datetime as dt\n",
    "from datetime import datetime"
   ]
  },
  {
   "cell_type": "code",
   "execution_count": null,
   "metadata": {},
   "outputs": [],
   "source": [
    "# Create a connection to your portal for publishing (enter your ArcGIS Online \n",
    "#  password in the textbox that appears, then hit 'Enter' on your keyboard)\n",
    "username = \" \"\n",
    "gis = GIS(\"https://www.arcgis.com\", username, getpass())"
   ]
  },
  {
   "cell_type": "code",
   "execution_count": null,
   "metadata": {},
   "outputs": [],
   "source": [
    "find_storymaps = gis.content.search(\"title: Community Storymap\", item_type=\"Web Mapping Application\", max_items=500, outside_org=False)"
   ]
  },
  {
   "cell_type": "code",
   "execution_count": null,
   "metadata": {
    "scrolled": false
   },
   "outputs": [],
   "source": [
    "import os\n",
    "today = [dt.date.today()]\n",
    "log_path = r\"T:\\CDO_To_Esri\\Storymaps\\_Archive\\Logfiles\\Communities\\UpdateCultureHistory\"\n",
    "log_file = os.path.join(log_path, \"Update Culture History_\" + str(today[0]) + str(\".txt\"))\n",
    "out = open(log_file,'w')\n",
    "\n",
    "\n",
    "for f in find_storymaps:\n",
    "    print(f.title, f.id)\n",
    "    try:\n",
    "        if f.title != 'Alaska DCRA Community Storymaps' and not f.title.startswith('Communit') and 'Community' in str(f.title):\n",
    "            csmap = storymap.JournalStoryMap(gis.content.get(str(f.id)))\n",
    "            sections = csmap.properties[\"values\"][\"story\"][\"sections\"]\n",
    "            panel_geog = sections[2]\n",
    "            community = f.title.replace(\" Community Storymap\", \"\").replace(\" (Unincorporated Community)\",\"\")\n",
    "            if community.startswith(\"City & Borough of \"):\n",
    "                community = community.replace(\"City & Borough of \", \"\")\n",
    "            if community.startswith(\"Municipality of \"):\n",
    "                community = community.replace(\"Municipality of \",\"\")\n",
    "            query = \"CommunityName = '\" + str(community.replace(\"'\",\"''\")) + \"'\"\n",
    "            print(query)\n",
    "\n",
    "            #Define the function to access fields within a layer --> provides a pandas dataframe of the data table\n",
    "        def access_lyr(content,out_fld):\n",
    "            base = content.layers\n",
    "            lyr = base[0]\n",
    "            topic_data = lyr.query(where=\"(CommunityName = '\" + str(community) +\"')\" ,out_fields=out_fld)\n",
    "            return topic_data.df\n",
    "### GEOGRAPHY AND CLIMATE ###\n",
    "        print(\"Updating climate and geography panel...\")\n",
    "        geog_base = gis.content.get(\"85b622ae19b04c7caa37c193b20fc4f3\")\n",
    "        geog_lookup = access_lyr(geog_base, 'Location, Climate, Latitude, Longitude, Sq_Mi_Land, Sq_Mi_Water')\n",
    "        panel_geog[\"content\"] = \"<style type='text/css'>.dcra-blue {\\n display: inline-block;\\n     background-color: #005e95;\\n     border-color: #005e95 !important;\\n     color: #fff !important;\\n     padding: 0px 4px;\\n     border-radius: 0px;\\n}\\n</style><p><a class='dcra-blue' data-storymaps='MJ-ACTION-1537213609501' data-storymaps-type='navigate'>Back to Table of Contents</a></p><p>&nbsp;</p><p><b>Latitude, Longitude: </b>\" + str(geog_lookup.Latitude[0]) + ', ' + str(geog_lookup.Longitude[0]) + '</p><p>&nbsp;</p><p>' + str(geog_lookup.Location[0]) + '</p><p>&nbsp;</p><p><b>Climate: </b>' + str(geog_lookup.Climate[0]) + '</p><p>&nbsp;</p><p><b>Square Miles of Land: </b>' + str(geog_lookup.Sq_Mi_Land[0]) + '</p><p><b>Square Miles of Water: </b>' + str(geog_lookup.Sq_Mi_Water[0]) + '</p>'\n",
    "\n",
    "        csmap.save()\n",
    "        \n",
    "        print(\"Geography & climate information updated!!\")\n",
    "        \n",
    "    except Exception as e:\n",
    "        print(\"----ERROR WITH \" + str(community) + \" STORYMAP. EXCEPTION: \" + str(e) + \"----\")\n",
    "        out.write(\"----ERROR WITH \" + str(community) + \" STORYMAP. EXCEPTION: \" + str(e) + \"----\")\n",
    "        out.write(\"\\n\\n\")\n",
    "        continue\n",
    "        \n",
    "out.close()       \n",
    "print(\"Storymap updates complete!\")"
   ]
  },
  {
   "cell_type": "code",
   "execution_count": null,
   "metadata": {},
   "outputs": [],
   "source": []
  }
 ],
 "metadata": {
  "kernelspec": {
   "display_name": "Python 3",
   "language": "python",
   "name": "python3"
  },
  "language_info": {
   "codemirror_mode": {
    "name": "ipython",
    "version": 3
   },
   "file_extension": ".py",
   "mimetype": "text/x-python",
   "name": "python",
   "nbconvert_exporter": "python",
   "pygments_lexer": "ipython3",
   "version": "3.6.5"
  }
 },
 "nbformat": 4,
 "nbformat_minor": 2
}
